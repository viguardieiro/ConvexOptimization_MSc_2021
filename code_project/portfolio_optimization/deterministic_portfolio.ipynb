{
 "cells": [
  {
   "cell_type": "markdown",
   "metadata": {},
   "source": [
    "# Portfolio Optimization\n",
    "\n",
    "A portfolio manager oversees multiple assets $(i=1,\\dots,N)$ and a bank account $(i=N+1)$. For a specified number of stages $T$, the manager wants to maximize his utility by dynamically reblanacing the portfolio.\n",
    "Let $\\{r_{it}\\}$ be   the return process of   asset $i$. At the end of each period, the position of $i^{th}$ asset $x_{it}$ equals the start position $x_{i,t-1}$, plus the realized return $r_{it} x_{i,t-1}$ during the period, plus the newly long positions $b_{it}$, minus the newly short positions $s_{it}$. Transaction costs are $f_b,f_s$ for buying and selling respectively. The capital in the bank account will be adjusted accordingly.\n",
    "\n",
    "We consider a simple asset pricing model that decomposes the excess return as the return explained by Capital Asset Pricing Model (CAPM), alpha and idiosyncratic risk,\n",
    "\\begin{equation*}\n",
    "    r_{it}  =  r_{ft} + \\beta_i (r_{Mt}-r_{ft}) + \\epsilon_{it}, \\textrm{where}~ \\epsilon_{it}\\overset{i.i.d}{\\sim} N(\\alpha_i,\\sigma_i),\n",
    "\\end{equation*}\n",
    "where $\\alpha_i,\\beta_i,\\sigma_i$ are assumed to be constant. We refer to $\\{r_{ft} + \\beta_i (r_{Mt}-r_{ft})\\}$ as the market-exposure return process and $\\{\\epsilon_{it}\\}$ as the idiosyncratic return process. The market return process $\\{r_{Mt}\\}$ is modelled as a first-order autoregressive process (AR) with normal generalized autoregressive conditional heteroscedastic GARCH(1,1) innovation due to,\n",
    "\\begin{align*}\n",
    "    & r_{Mt} = \\mu + \\phi r_{M,t-1} + \\epsilon_{Mt},\\\\\n",
    "    & \\epsilon_{Mt} = \\sigma_{Mt} e_{Mt},\\\\\n",
    "    & \\sigma_{Mt}^2 = \\omega + \\alpha_1 \\epsilon_{M,t-1}^2 + \\alpha_2 \\sigma_{M,t-1}^2,\\\\\n",
    "    & e_{Mt}\\overset{i.i.d}{\\sim} N(0,1).\n",
    "\\end{align*}"
   ]
  },
  {
   "cell_type": "markdown",
   "metadata": {},
   "source": [
    "Formulation\n",
    "----------------\n",
    "\n",
    "\\begin{align*}\n",
    "    \\max~& U(r_T^\\top x_T)\\\\\n",
    "    \\textrm{s.t.}~&\\forall t=1,\\dots,T,\\forall i=1,\\dots,N,\\\\\n",
    "    & x_{it} = x_{i,capm,t} + x_{i,idio,t} + x_{i,t-1} + b_{it} - s_{it},\\\\\n",
    "    & x_{N+1,t} = (1 + r_{ft}) x_{N+1,t-1} - (1+f_{b}) \\sum_{i=1}^N b_{it} + (1-f_{s}) \\sum_{i=1}^N s_{it},\\\\\n",
    "    & x_{i,capm,t} = \\big[r_{ft} + \\beta_{i} (r_{Mt}-r_{ft})\\big] x_{i,t-1}\\\\\n",
    "    & x_{i,idio,t} = \\epsilon_{it} x_{i,t-1},\\\\\n",
    "    & \\epsilon_{it}\\overset{i.i.d}{\\sim} N(\\alpha_i,\\sigma_i), \\{r_{Mt}\\} \\sim \\textrm{AR}(1)-\\textrm{GARCH}(1,1),\\\\\n",
    "    & x_{i0} = 0, x_{N+1,0} = \\$ 100 \\\\\n",
    "    & b_{it},s_{it},x_{it},x_{N+1,t}\\geq 0.\n",
    "\\end{align*}"
   ]
  },
  {
   "cell_type": "markdown",
   "metadata": {},
   "source": [
    "Deterministic solution\n",
    "----------------"
   ]
  },
  {
   "cell_type": "code",
   "execution_count": 1,
   "metadata": {},
   "outputs": [
    {
     "data": {
      "text/plain": [
       "0.001"
      ]
     },
     "metadata": {},
     "output_type": "display_data"
    }
   ],
   "source": [
    "using CSV, DataFrames\n",
    "using JuMP, Gurobi\n",
    "using Plots\n",
    "\n",
    "rf = 0.0005\n",
    "fee = 0.001"
   ]
  },
  {
   "cell_type": "code",
   "execution_count": 21,
   "metadata": {},
   "outputs": [],
   "source": [
    "params = DataFrame(CSV.File(\"./data/parameters.csv\"))\n",
    "mu, phi, omega, alpha_1, alpha_2 = params[:,2]\n",
    "\n",
    "coeffs = DataFrame(CSV.File(\"./data/coefficients.csv\"))\n",
    "alpha = coeffs[:,2]\n",
    "beta = coeffs[:,3]\n",
    "epsilon = coeffs[:,4];\n",
    "\n",
    "prices = DataFrame(CSV.File(\"./data/prices.csv\"))\n",
    "prices = prices[:,2:end];"
   ]
  },
  {
   "cell_type": "code",
   "execution_count": 50,
   "metadata": {},
   "outputs": [],
   "source": [
    "returns = similar(prices, 0)\n",
    "for i in 1:size(prices)[2]-1\n",
    "    m = collect(prices[i+1,:])./collect(prices[i,:])\n",
    "    push!(returns, m)\n",
    "end"
   ]
  },
  {
   "cell_type": "code",
   "execution_count": 52,
   "metadata": {},
   "outputs": [
    {
     "name": "stdout",
     "output_type": "stream",
     "text": [
      "Academic license - for non-commercial use only - expires 2022-01-02\n"
     ]
    },
    {
     "data": {
      "text/plain": [
       "A JuMP Model\n",
       "Feasibility problem with:\n",
       "Variables: 0\n",
       "Model mode: AUTOMATIC\n",
       "CachingOptimizer state: EMPTY_OPTIMIZER\n",
       "Solver name: Gurobi"
      ]
     },
     "metadata": {},
     "output_type": "display_data"
    }
   ],
   "source": [
    "T = 3\n",
    "N = 5 # The first N assets in prices\n",
    "\n",
    "m = Model(Gurobi.Optimizer)\n",
    "\n"
   ]
  },
  {
   "cell_type": "code",
   "execution_count": null,
   "metadata": {},
   "outputs": [],
   "source": []
  }
 ],
 "metadata": {
  "kernelspec": {
   "display_name": "Julia 1.6.3",
   "language": "julia",
   "name": "julia-1.6"
  },
  "language_info": {
   "file_extension": ".jl",
   "mimetype": "application/julia",
   "name": "julia",
   "version": "1.6.3"
  },
  "orig_nbformat": 4
 },
 "nbformat": 4,
 "nbformat_minor": 2
}
