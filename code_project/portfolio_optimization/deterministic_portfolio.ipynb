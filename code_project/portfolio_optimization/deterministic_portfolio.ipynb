{
 "cells": [
  {
   "cell_type": "markdown",
   "metadata": {},
   "source": [
    "# Portfolio Optimization\n",
    "\n",
    "A portfolio manager oversees multiple assets $(i=1,\\dots,N)$ and a bank account $(i=N+1)$. For a specified number of stages $T$, the manager wants to maximize his utility by dynamically reblanacing the portfolio.\n",
    "Let $\\{r_{it}\\}$ be   the return process of   asset $i$. At the end of each period, the position of $i^{th}$ asset $x_{it}$ equals the start position $x_{i,t-1}$, plus the realized return $r_{it} x_{i,t-1}$ during the period, plus the newly long positions $b_{it}$, minus the newly short positions $s_{it}$. Transaction costs are $f_b,f_s$ for buying and selling respectively. The capital in the bank account will be adjusted accordingly.\n",
    "\n",
    "We consider a simple asset pricing model that decomposes the excess return as the return explained by Capital Asset Pricing Model (CAPM), alpha and idiosyncratic risk,\n",
    "\\begin{equation*}\n",
    "    r_{it}  =  r_{ft} + \\beta_i (r_{Mt}-r_{ft}) + \\epsilon_{it}, \\textrm{where}~ \\epsilon_{it}\\overset{i.i.d}{\\sim} N(\\alpha_i,\\sigma_i),\n",
    "\\end{equation*}\n",
    "where $\\alpha_i,\\beta_i,\\sigma_i$ are assumed to be constant. We refer to $\\{r_{ft} + \\beta_i (r_{Mt}-r_{ft})\\}$ as the market-exposure return process and $\\{\\epsilon_{it}\\}$ as the idiosyncratic return process. The market return process $\\{r_{Mt}\\}$ is modelled as a first-order autoregressive process (AR) with normal generalized autoregressive conditional heteroscedastic GARCH(1,1) innovation due to,\n",
    "\\begin{align*}\n",
    "    & r_{Mt} = \\mu + \\phi r_{M,t-1} + \\epsilon_{Mt},\\\\\n",
    "    & \\epsilon_{Mt} = \\sigma_{Mt} e_{Mt},\\\\\n",
    "    & \\sigma_{Mt}^2 = \\omega + \\alpha_1 \\epsilon_{M,t-1}^2 + \\alpha_2 \\sigma_{M,t-1}^2,\\\\\n",
    "    & e_{Mt}\\overset{i.i.d}{\\sim} N(0,1).\n",
    "\\end{align*}"
   ]
  },
  {
   "cell_type": "markdown",
   "metadata": {},
   "source": [
    "Formulation\n",
    "----------------\n",
    "\n",
    "\\begin{align*}\n",
    "    \\max~& U(r_T^\\top x_T)\\\\\n",
    "    \\textrm{s.t.}~&\\forall t=1,\\dots,T,\\forall i=1,\\dots,N,\\\\\n",
    "    & x_{it} = x_{i,capm,t} + x_{i,idio,t} + x_{i,t-1} + b_{it} - s_{it},\\\\\n",
    "    & x_{N+1,t} = (1 + r_{ft}) x_{N+1,t-1} - (1+f_{b}) \\sum_{i=1}^N b_{it} + (1-f_{s}) \\sum_{i=1}^N s_{it},\\\\\n",
    "    & x_{i,capm,t} = \\big[r_{ft} + \\beta_{i} (r_{Mt}-r_{ft})\\big] x_{i,t-1}\\\\\n",
    "    & x_{i,idio,t} = \\epsilon_{it} x_{i,t-1},\\\\\n",
    "    & \\epsilon_{it}\\overset{i.i.d}{\\sim} N(\\alpha_i,\\sigma_i), \\{r_{Mt}\\} \\sim \\textrm{AR}(1)-\\textrm{GARCH}(1,1),\\\\\n",
    "    & x_{i0} = 0, x_{N+1,0} = \\$ 100 \\\\\n",
    "    & b_{it},s_{it},x_{it},x_{N+1,t}\\geq 0.\n",
    "\\end{align*}"
   ]
  },
  {
   "cell_type": "markdown",
   "metadata": {},
   "source": [
    "Deterministic solution\n",
    "----------------"
   ]
  },
  {
   "cell_type": "markdown",
   "metadata": {},
   "source": [
    "Formulation\n",
    "-------------\n",
    "\n",
    "For the deterministic case, we know the return $r_{i,t}* for all $i=1,\\dots,N$ and $t=1,\\dots,T$.\n",
    "\n",
    "Therefore, the formulation is:\n",
    "\n",
    "\\begin{align*}\n",
    "    \\max~& \\sum_{i=1}^{N+1} x_{iT} \\\\\n",
    "    \\textrm{s.t.}~&\\forall t=1,\\dots,T,\\forall i=1,\\dots,N,\\\\\n",
    "    & x_{it} = r_{it} x_{i,t-1} + x_{i,t-1} + b_{it} - s_{it},\\\\\n",
    "    & x_{N+1,t} = (1 + r_{ft}) x_{N+1,t-1} - (1+f_{b}) \\sum_{i=1}^N b_{it} + (1-f_{s}) \\sum_{i=1}^N s_{it},\\\\\n",
    "    & x_{i0} = 0, x_{N+1,0} = \\$ 100 \\\\\n",
    "    & b_{it},s_{it},x_{it},x_{N+1,t}\\geq 0.\n",
    "\\end{align*}"
   ]
  },
  {
   "cell_type": "code",
   "execution_count": 54,
   "metadata": {},
   "outputs": [],
   "source": [
    "using CSV, DataFrames\n",
    "using JuMP, Gurobi\n",
    "using Plots"
   ]
  },
  {
   "cell_type": "code",
   "execution_count": 55,
   "metadata": {},
   "outputs": [],
   "source": [
    "T = 3\n",
    "N = 5 # The first N assets in prices\n",
    "\n",
    "rf = 0.0005\n",
    "fee = 0.001\n",
    "\n",
    "prices = DataFrame(CSV.File(\"./data/prices.csv\"))\n",
    "prices = prices[:,2:end];\n",
    "\n",
    "returns = similar(prices, 0)\n",
    "for i in 1:size(prices)[2]-1\n",
    "    m = collect(prices[i+1,:])./collect(prices[i,:])\n",
    "    push!(returns, m)\n",
    "end"
   ]
  },
  {
   "cell_type": "code",
   "execution_count": 80,
   "metadata": {},
   "outputs": [
    {
     "name": "stdout",
     "output_type": "stream",
     "text": [
      "Academic license - for non-commercial use only - expires 2022-01-02\n",
      "Max asset[1,3] + asset[2,3] + asset[3,3] + asset[4,3] + asset[5,3] + asset[6,3]"
     ]
    },
    {
     "name": "stdout",
     "output_type": "stream",
     "text": [
      "\n",
      "Subject to\n",
      " "
     ]
    },
    {
     "name": "stdout",
     "output_type": "stream",
     "text": [
      "asset[1,1] - buy[1,1] + sell[1,1] = 0.0\n",
      " asset[2,1] - buy[2,1] + sell[2,1] = 0.0\n",
      " asset[3,1] - buy[3,1] + sell[3,1] = 0.0\n",
      " asset[4,1] - buy[4,1] + sell[4,1] = 0.0\n",
      " asset[5,1] - buy[5,1] + sell[5,1] = 0.0\n",
      " asset[6,1] + 1.001 buy[1,1] + 1.001 buy[2,1] + 1.001 buy[3,1] + 1.001 buy[4,1] + 1.001 buy[5,1] - 0.999 sell[1,1] - 0.999 sell[2,1] - 0.999 sell[3,1] - 0.999 sell[4,1] - 0.999 sell[5,1] = 100.0\n",
      " -0.9804303432198941 asset[1,1] + asset[1,2] - buy[1,2] + sell[1,2] = 0.0\n",
      " -1.0001742143752306 asset[2,1] + asset[2,2] - buy[2,2] + sell[2,2] = 0.0\n",
      " -0.9916123561801408 asset[3,1] + asset[3,2] - buy[3,2] + sell[3,2] = 0.0\n",
      " -0.998046156166405 asset[4,1] + asset[4,2] - buy[4,2] + sell[4,2] = 0.0\n",
      " -0.9828974727095938 asset[5,1] + asset[5,2] - buy[5,2] + sell[5,2] = 0.0\n",
      " -1.0005 asset[6,1] + asset[6,2] + 1.001 buy[1,2] + 1.001 buy[2,2] + 1.001 buy[3,2] + 1.001 buy[4,2] + 1.001 buy[5,2] - 0.999 sell[1,2] - 0.999 sell[2,2] - 0.999 sell[3,2] - 0.999 sell[4,2] - 0.999 sell[5,2] = 0.0\n",
      " -0.9577954665490981 asset[1,2] + asset[1,3] = 0.0\n",
      " -0.997037441286282 asset[2,2] + asset[2,3] = 0.0\n",
      " -0.9760341190762687 asset[3,2] + asset[3,3] = 0.0\n",
      " -0.970634409318494 asset[4,2] + asset[4,3] = 0.0\n",
      " -0.9990113643089178 asset[5,2] + asset[5,3] = 0.0\n",
      " -1.0005 asset[6,2] + asset[6,3] = 0.0\n",
      " asset[1,1] ≥ 0.0\n",
      " asset[2,1] ≥ 0.0\n",
      " asset[3,1] ≥ 0.0\n",
      " asset[4,1] ≥ 0.0\n",
      " asset[5,1] ≥ 0.0\n",
      " asset[6,1] ≥ 0.0\n",
      " asset[1,2] ≥ 0.0\n",
      " asset[2,2] ≥ 0.0\n",
      " asset[3,2] ≥ 0.0\n",
      " asset[4,2] ≥ 0.0\n",
      " asset[5,2] ≥ 0.0\n",
      " asset[6,2] ≥ 0.0\n",
      " asset[1,3] ≥ 0.0\n",
      " asset[2,3] ≥ 0.0\n",
      " asset[3,3] ≥ 0.0\n",
      " asset[4,3] ≥ 0.0\n",
      " asset[5,3] ≥ 0.0\n",
      " asset[6,3] ≥ 0.0\n",
      " buy[1,1] ≥ 0.0\n",
      " buy[2,1] ≥ 0.0\n",
      " buy[3,1] ≥ 0.0\n",
      " buy[4,1] ≥ 0.0\n",
      " buy[5,1] ≥ 0.0\n",
      " buy[1,2] ≥ 0.0\n",
      " buy[2,2] ≥ 0.0\n",
      " buy[3,2] ≥ 0.0\n",
      " buy[4,2] ≥ 0.0\n",
      " buy[5,2] ≥ 0.0\n",
      " buy[1,3] ≥ 0.0\n",
      " buy[2,3] ≥ 0.0\n",
      " buy[3,3] ≥ 0.0\n",
      " buy[4,3] ≥ 0.0\n",
      " buy[5,3] ≥ 0.0\n",
      " sell[1,1] ≥ 0.0\n",
      " sell[2,1] ≥ 0.0\n",
      " sell[3,1] ≥ 0.0\n",
      " sell[4,1] ≥ 0.0\n",
      " sell[5,1] ≥ 0.0\n",
      " sell[1,2] ≥ 0.0\n",
      " sell[2,2] ≥ 0.0\n",
      " sell[3,2] ≥ 0.0\n",
      " sell[4,2] ≥ 0.0\n",
      " sell[5,2] ≥ 0.0\n",
      " sell[1,3] ≥ 0.0\n",
      " sell[2,3] ≥ 0.0\n",
      " sell[3,3] ≥ 0.0\n",
      " sell[4,3] ≥ 0.0\n",
      " sell[5,3] ≥ 0.0\n"
     ]
    }
   ],
   "source": [
    "m = Model(Gurobi.Optimizer)\n",
    "\n",
    "@variable(m, 0 <= asset[1:N+1, 1:T])\n",
    "@variable(m, 0 <= buy[1:N, 1:T]) \n",
    "@variable(m, 0 <= sell[1:N, 1:T])\n",
    "\n",
    "for t in 1:T\n",
    "    if t==1\n",
    "        for i in 1:N\n",
    "            @constraint(m, asset[i,1]==buy[i,1]-sell[i,1])\n",
    "        end\n",
    "\n",
    "        @constraint(m, asset[N+1,1]==100-\n",
    "                        (1+fee)*sum(buy[i,1] for i in 1:N)+\n",
    "                        (1-fee)*sum(sell[i,1] for i in 1:N))\n",
    "    elseif t!=T\n",
    "        for i in 1:N\n",
    "            @constraint(m, asset[i,t]==returns[t,i]*asset[i,t-1]+buy[i,t]-sell[i,t])\n",
    "        end\n",
    "        @constraint(m, asset[N+1,t]==(1+rf)*asset[N+1,t-1]-\n",
    "                        (1+fee)*sum(buy[i,t] for i in 1:N)+\n",
    "                        (1-fee)*sum(sell[i,t] for i in 1:N))\n",
    "    else\n",
    "        for i in 1:N\n",
    "            @constraint(m, asset[i,t]==returns[t,i]*asset[i,t-1])\n",
    "        end\n",
    "        @constraint(m, asset[N+1,t]==(1+rf)*asset[N+1,t-1])\n",
    "    end\n",
    "end\n",
    "\n",
    "@objective(m, Max, sum(asset[i,T] for i in 1:N+1))\n",
    "\n",
    "print(m)"
   ]
  },
  {
   "cell_type": "code",
   "execution_count": 81,
   "metadata": {},
   "outputs": [
    {
     "name": "stdout",
     "output_type": "stream",
     "text": [
      "Gurobi Optimizer version 9.1.2 build v9.1.2rc0 (linux64)\n",
      "Thread count: 4 physical cores, 8 logical processors, using up to 8 threads\n",
      "Optimize a model with 18 rows, 48 columns and 70 nonzeros\n",
      "Model fingerprint: 0xd5cf116b\n",
      "Coefficient statistics:\n",
      "  Matrix range     [1e+00, 1e+00]\n",
      "  Objective range  [1e+00, 1e+00]\n",
      "  Bounds range     [0e+00, 0e+00]\n",
      "  RHS range        [1e+02, 1e+02]\n",
      "Presolve removed 15 rows and 38 columns\n",
      "Presolve time: 0.05s\n",
      "Presolved: 3 rows, 10 columns, 18 nonzeros\n",
      "\n",
      "Iteration    Objective       Primal Inf.    Dual Inf.      Time\n",
      "       0    1.2000045e+31   1.500500e+30   1.200005e+01      0s\n",
      "       2    1.0010002e+02   0.000000e+00   0.000000e+00      0s\n",
      "\n",
      "Solved in 2 iterations and 0.07 seconds\n",
      "Optimal objective  1.001000250e+02\n",
      "\n",
      "User-callback calls 42, time in user-callback 0.01 sec\n",
      "termination_status(m) = MathOptInterface.OPTIMAL\n",
      "primal_status(m) = MathOptInterface.FEASIBLE_POINT\n"
     ]
    },
    {
     "name": "stdout",
     "output_type": "stream",
     "text": [
      "dual_status(m) = MathOptInterface.FEASIBLE_POINT\n",
      "objective_value(m) = "
     ]
    },
    {
     "name": "stdout",
     "output_type": "stream",
     "text": [
      "100.10002499999999\n"
     ]
    },
    {
     "data": {
      "text/plain": [
       "100.10002499999999"
      ]
     },
     "metadata": {},
     "output_type": "display_data"
    }
   ],
   "source": [
    "optimize!(m)\n",
    "@show termination_status(m)\n",
    "@show primal_status(m)\n",
    "@show dual_status(m)\n",
    "@show objective_value(m)"
   ]
  },
  {
   "cell_type": "code",
   "execution_count": null,
   "metadata": {},
   "outputs": [],
   "source": []
  }
 ],
 "metadata": {
  "kernelspec": {
   "display_name": "Julia 1.6.3",
   "language": "julia",
   "name": "julia-1.6"
  },
  "language_info": {
   "file_extension": ".jl",
   "mimetype": "application/julia",
   "name": "julia",
   "version": "1.6.3"
  },
  "orig_nbformat": 4
 },
 "nbformat": 4,
 "nbformat_minor": 2
}
