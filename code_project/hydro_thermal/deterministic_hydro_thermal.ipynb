{
 "cells": [
  {
   "cell_type": "markdown",
   "metadata": {},
   "source": [
    "# Hydro-thermal power system planning problem: Deterministic Solution\n",
    "The Brazilian interconnected power system has four regions, SE, S, N and NE, denoted by 0,1,2,3 for simiplicity.\n",
    "\n",
    "In each region, there are one integrated reserviour and several thermal plants to provide energy. Energy exchange is allowed between regions and an additional transshipment station.\n",
    "\n",
    "If demand can not be satisfied, a deficit cost will be incur.\n",
    "\n",
    "The objective is to minimize the total cost over the designing period meanwhile meeting energy requirements and feasibility constraints."
   ]
  },
  {
   "cell_type": "markdown",
   "metadata": {},
   "source": [
    "Notation\n",
    "--------\n",
    "\n",
    "$v_{it}$: stored energy in subsystem (reservior) $i$ at the beginning of stage $t$  \n",
    "$a_{it}$: energy inflow in subsystem $i$ during stage $t$   \n",
    "$q_{it}$: turbined energy (hydro generation) in subsystem $i$ during stage $t$  \n",
    "$s_{it}$: modelilled energy in subsystem $i$ during stage $t$  \n",
    "$g_{kt}$: thermal generation at stage $t$ of thermal plants $k$ in each subsystem $i$ during stage $t$  \n",
    "$\\textrm{ex}_{i\\rightarrow j,t}$: energy exchange from subsystem $i$ to subsystem $j$  \n",
    "$\\textrm{ex}_{j\\rightarrow i,t}$: energy exchange from subsystem $j$ to subsystem $i$  \n",
    "$\\textrm{df}_{ijt}$: deficit account for subsystem $i$ in subsystem $j$ "
   ]
  },
  {
   "cell_type": "markdown",
   "metadata": {},
   "source": [
    "Formulation\n",
    "----------------\n",
    "\n",
    "Dynamics of each reservior $i$ is given by\n",
    "$$v_{i,t+1} + s_{it} + q_{it} - v_{it} = a_{it}$$\n",
    "\n",
    "Thermal plant generated energy and the hydro generated energy are the sources to satisfy demand. Energy can be exchanged between reserviors. Energy deficit will incur if demand can't be met. The supply-demand equation is thus\n",
    "$$q_{it} + \\sum_{k\\in\\omega_i} \\textrm{g}_{kt} + \\sum_{j} \\textrm{df}_{ijt} -\\sum_{j} \\textrm{ex}_{i\\rightarrow j,t} +\\sum_{j} \\textrm{ex}_{j\\rightarrow i,t} = d_{it}$$\n",
    "\n",
    "We assume there is no cost for hydro generation, $\\$u_k$ for every megawatt thermal plant $k$ produces, $v_{ij}$ for every megawatt deficit account produces. Objective is to minimize energy generation cost (in thousands) over 12 months \n",
    "\n",
    "$$\\sum_{t=1}^{12} \\sum_i \\big[\\sum_k u_k g_{kt} + \\sum_j v_{ij} \\textrm{df}_{ijt}\\big]$$"
   ]
  },
  {
   "cell_type": "markdown",
   "metadata": {},
   "source": [
    "Deterministic solution\n",
    "----------------"
   ]
  },
  {
   "cell_type": "code",
   "execution_count": 2,
   "metadata": {},
   "outputs": [
    {
     "name": "stderr",
     "output_type": "stream",
     "text": [
      "WARNING: replacing module HydroThermalVariables.\n"
     ]
    }
   ],
   "source": [
    "using CSV, DataFrames\n",
    "using JuMP, Gurobi\n",
    "using Plots\n",
    "\n",
    "include(\"./HydroThermalVariables.jl\")\n",
    "using Main.HydroThermalVariables: thermal_ub, thermal_lb, thermal_obj, scenarios"
   ]
  },
  {
   "cell_type": "code",
   "execution_count": 3,
   "metadata": {},
   "outputs": [],
   "source": [
    "hydro_ = DataFrame(CSV.File(\"./data/hydro.csv\"))\n",
    "hydro_ub = hydro_[9:12, 2]\n",
    "storedEnergy_initial = hydro_[1:4, 3]\n",
    "storedEnergy_ub = hydro_[1:4, 2]\n",
    "inflow_initial = hydro_[5:8, 3];\n",
    "\n",
    "deficit_ = DataFrame(CSV.File(\"./data/deficit.csv\"))\n",
    "deficit_obj = deficit_[:, 2]\n",
    "deficit_ub = deficit_[:, 3];\n",
    "\n",
    "exchange_ub = DataFrame(CSV.File(\"./data/exchange.csv\"))[:, 2:end]\n",
    "exchange_cost = DataFrame(CSV.File(\"./data/exchange_cost.csv\"))[:, 2:end]\n",
    "\n",
    "demand = DataFrame(CSV.File(\"./data/demand.csv\"))[:, 2:end];"
   ]
  },
  {
   "cell_type": "code",
   "execution_count": 4,
   "metadata": {},
   "outputs": [
    {
     "name": "stdout",
     "output_type": "stream",
     "text": [
      "Academic license - for non-commercial use only - expires 2022-01-02\n"
     ]
    },
    {
     "data": {
      "text/plain": [
       "A JuMP Model\n",
       "Minimization problem with:\n",
       "Variables: 18240\n",
       "Objective function type: AffExpr\n",
       "`AffExpr`-in-`MathOptInterface.EqualTo{Float64}`: 1080 constraints\n",
       "`VariableRef`-in-`MathOptInterface.GreaterThan{Float64}`: 18240 constraints\n",
       "`VariableRef`-in-`MathOptInterface.LessThan{Float64}`: 17760 constraints\n",
       "Model mode: AUTOMATIC\n",
       "CachingOptimizer state: EMPTY_OPTIMIZER\n",
       "Solver name: Gurobi\n",
       "Names registered in the model: df, ex, g, q, s, v"
      ]
     },
     "execution_count": 4,
     "metadata": {},
     "output_type": "execute_result"
    }
   ],
   "source": [
    "T = 120\n",
    "sce = 1 # inflow scenario\n",
    "\n",
    "m = Model(Gurobi.Optimizer)\n",
    "\n",
    "@variable(m, 0 <= v[i=1:4,t=1:T] <= storedEnergy_ub[i]) # v - stored energy\n",
    "@variable(m, 0 <= q[i=1:4,t=1:T] <= hydro_ub[i]) # q - hydro generation\n",
    "@variable(m, thermal_lb[i][k] <= g[i=1:4,k=1:length(thermal_lb[i]),t=1:T] <= thermal_ub[i][k]) # g - thermal generation\n",
    "@variable(m, 0 <= df[i=1:4,j=1:5,t=1:T] <= (demand[t%12==0 ? 12 : t%12,i]*deficit_ub[i])) # df - deficit account\n",
    "@variable(m, 0 <= ex[i=1:5,j=1:5,t=1:T] <= exchange_ub[i,j]) # ex - energy exchange\n",
    "@variable(m, s[i=1:4,t=1:T] >= 0) # s - spilled energy\n",
    "\n",
    "for t=1:T\n",
    "    ty = t%12==0 ? 12 : t%12\n",
    "    for i=1:4\n",
    "        if t==1\n",
    "            @constraint(m, v[i,t]+s[i,t]+q[i,t]-storedEnergy_initial[i] == inflow_initial[i])\n",
    "        else\n",
    "            @constraint(m, v[i,t]+s[i,t]+q[i,t]-v[i,t-1] == scenarios[i][(t-1)%12==0 ? 12 : (t-1)%12][sce])\n",
    "        end\n",
    "        @constraint(m, q[i,t]+sum(g[i,k,t] for k=1:length(thermal_lb[i]))+sum(df[i,j,t] for j=1:4)-\n",
    "                    sum(ex[i,j,t] for j=1:5)+sum(ex[j,i,t] for j=1:5) == demand[ty,i])\n",
    "    end\n",
    "    @constraint(m, sum(ex[j,5,t] for j=1:4) == sum(ex[5,j,t] for j=1:4))\n",
    "end\n",
    "\n",
    "@objective(m, Min, sum(sum(sum(exchange_cost[j,i]*ex[j,i,t] for j=1:5)+\n",
    "                           sum(thermal_obj[i][k]*g[i,k,t] for k=1:length(thermal_obj[i]))+\n",
    "                           sum(deficit_obj[i]*df[i,j,t] for j=1:4) for i=1:4)+\n",
    "                        sum(exchange_cost[j,5]*ex[j,5,t] for j=1:4) for t=1:T)\n",
    "          )\n",
    "\n",
    "m"
   ]
  },
  {
   "cell_type": "code",
   "execution_count": 5,
   "metadata": {},
   "outputs": [
    {
     "name": "stdout",
     "output_type": "stream",
     "text": [
      "Gurobi Optimizer version 9.1.2 build v9.1.2rc0 (linux64)\n",
      "Thread count: 4 physical cores, 8 logical processors, using up to 8 threads\n",
      "Optimize a model with 1080 rows, 18240 columns and 20516 nonzeros\n",
      "Model fingerprint: 0x69ff4137\n",
      "Coefficient statistics:\n",
      "  Matrix range     [1e+00, 1e+00]\n",
      "  Objective range  [5e-04, 6e+03]\n",
      "  Bounds range     [7e-01, 2e+05]\n",
      "  RHS range        [2e+03, 1e+05]\n",
      "Presolve removed 54 rows and 6667 columns\n",
      "Presolve time: 0.03s\n",
      "Presolved: 1026 rows, 11573 columns, 13615 nonzeros\n",
      "\n",
      "Iteration    Objective       Primal Inf.    Dual Inf.      Time\n",
      "       0    2.9409910e+07   2.598125e+05   0.000000e+00      0s\n",
      "    1191    3.0124496e+07   0.000000e+00   0.000000e+00      0s\n",
      "\n",
      "Solved in 1191 iterations and 0.07 seconds\n",
      "Optimal objective  3.012449588e+07\n",
      "\n",
      "User-callback calls 1231, time in user-callback 0.01 sec\n"
     ]
    }
   ],
   "source": [
    "optimize!(m)"
   ]
  },
  {
   "cell_type": "code",
   "execution_count": 6,
   "metadata": {},
   "outputs": [
    {
     "data": {
      "text/plain": [
       "* Solver : Gurobi\n",
       "\n",
       "* Status\n",
       "  Termination status : OPTIMAL\n",
       "  Primal status      : FEASIBLE_POINT\n",
       "  Dual status        : FEASIBLE_POINT\n",
       "  Message from the solver:\n",
       "  \"Model was solved to optimality (subject to tolerances), and an optimal solution is available.\"\n",
       "\n",
       "* Candidate solution\n",
       "  Objective value      : 3.012449587770912e7\n",
       "  Objective bound      : 3.012449587770912e7\n",
       "  Dual objective value : 3.012449587770912e7\n",
       "\n",
       "* Work counters\n",
       "  Solve time (sec)   : 0.07138\n",
       "  Simplex iterations : 0\n",
       "  Barrier iterations : 1191\n",
       "  Node count         : 0\n"
      ]
     },
     "execution_count": 6,
     "metadata": {},
     "output_type": "execute_result"
    }
   ],
   "source": [
    "solution_summary(m)"
   ]
  },
  {
   "cell_type": "code",
   "execution_count": null,
   "metadata": {},
   "outputs": [],
   "source": []
  }
 ],
 "metadata": {
  "kernelspec": {
   "display_name": "Julia 1.6.3",
   "language": "julia",
   "name": "julia-1.6"
  },
  "language_info": {
   "file_extension": ".jl",
   "mimetype": "application/julia",
   "name": "julia",
   "version": "1.6.3"
  },
  "orig_nbformat": 4
 },
 "nbformat": 4,
 "nbformat_minor": 2
}
